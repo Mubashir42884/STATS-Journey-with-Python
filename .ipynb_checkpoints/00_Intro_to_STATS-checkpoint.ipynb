{
 "cells": [
  {
   "cell_type": "markdown",
   "id": "8b7446e4",
   "metadata": {},
   "source": [
    "# **INTRO TO STATISTICS**"
   ]
  },
  {
   "cell_type": "markdown",
   "id": "080cd1ca",
   "metadata": {},
   "source": [
    "Hello! In this notebook, we will try to cover the most basic statistical concepts and will do some fun codes to check if it really works.<br>\n",
    "So, the concepts we will cover here are:<br>\n",
    "\n",
    "1. *Variables: Input Variables & Output Variables*\n",
    "2. *Types of Statistical Learning: Descriptive & Inferential*\n",
    "3. *Population and Sample*\n",
    "4. *Estimation*\n",
    "    \n",
    "Books we will be following:\n",
    "```\n",
    "1. James, G., Witten, D., Hastie, T., Tibshirani, R., & Taylor, J. (2023). An introduction to statistical learning: With applications in Python. Springer.\n",
    "2. Hastie, T., Tibshirani, R.,, Friedman, J. (2009). The elements of statistical learning: data mining, inference and prediction. Springer.\n",
    "```"
   ]
  },
  {
   "cell_type": "markdown",
   "id": "4dbd3473",
   "metadata": {},
   "source": [
    "### 1. Variables: Input Variables & Output Variables\n",
    "In stat, A **_Variable_** is a measurable characteristic, attribute, or feature of a person, object, or event that can take on a variety of values.\n",
    "<br>\n",
    "A variable itself may not be meaningful or understandable all the time. For example, say we have a person P's attribute gathered as variable A, B, and C. These variables can be of any datatype or any value. But how does these variables define a person is our concern. A and B could be Height and Weight and we can give a conclusion to that the person P's Height and Weight is A and B. But if C is an unknown variable that contains any positive Real Number from 0 to infinity, what conclusion could we add to that? Without knowing what C means, we can assume everything but cannot define anything.<br>\n",
    "Turned out, if we divide the Weight with the squared values of Height, it gives us the exact value in C. That's actually the person P's BMI score! But we didn't know that before. Even without knowing what the variable C is, could we have guessed it correctly? Hmm...oh yes! With statistics we actually can guess it!! Actually we call it *_Estimate_* rather than just a random guess.\n",
    "<br>\n",
    "To **_Estimate_** the BMI (variable C), we needed the Weight (variable A) and Height (variable B). Then we needed the equation or the estimator function  ```{Weight / Height^2}``` to estimate BMI (variable C). So in this context:\n",
    "- A and B are **_Input Variables_**: Which works as an input for the estimation function\n",
    "- C is the **_Output Variable_**: Which works as an output of the estimation function\n",
    "\n",
    "We can write:\n",
    "$$BMI (C) = f(Weight(A), Height(B))$$\n",
    "or simply,\n",
    "$$Y = f(X)$$\n",
    "Where, Y is the output of the estimate function of input X."
   ]
  },
  {
   "cell_type": "markdown",
   "id": "44037417",
   "metadata": {},
   "source": [
    "### 2.Types of Statistical Learning: Descriptive & Inferential\n",
    "Let's begin with an example of two university students, name Donny and Darcy. We have collected their last semester's grades for the same courses they have taken, number of classes they have attended, and the part-time job hour they spent each week. If I ask who did better in the course, or who was the busiest among them in the last semester, we can easily find out by looking at their grades and their time spent in the semester. Even if I ask what was the average grade or minimum work-time of them, we can answer that by doing some calculations. This means, we can describe or summarize Donny and Darcy's semester by their grades, attendance, and working hour. Therefore, **Descriptive Statistics** is a statistical process that can describe or summarize the data in a meaningful way which can be characterized.\n",
    "<br>\n",
    "However, if we were to determine who is a good student among Donny and Darcy from the given dataset, that would be a different case. Because, we cannot judge or conclude a student is good or bad just focusing on grades, attendance, and working time. It requires more logical data and evidence to deduce into such conclusion that we can be confident of what we say. Thus, **Inferential Statistics** is a statistical process that can take a sample from the data to deduce into logical conclusion which can be generalized.\n",
    "<br>\n",
    "\n",
    "| Type | Purpose | Context | Statistical Tools |\n",
    "|---|---|---|---|\n",
    "| **Descriptive Statistic** | Summarize observed data | Average grades, working ratio, etc. | Mean, Median, Mode, Standard Deviation, etc. |\n",
    "| **Inferential Statistic** | Make predictions or comparisons | Future grades, performance comparison etc. | Hypothesis testing, Regression, etc. |\n",
    "\n",
    "<br>\n",
    "Let's take the example of Donny and Darcy into a fun code to understand a bit more."
   ]
  },
  {
   "cell_type": "code",
   "execution_count": 1,
   "id": "6c994e43",
   "metadata": {},
   "outputs": [],
   "source": [
    "import numpy as np\n",
    "import pandas as pd\n",
    "import matplotlib.pyplot as plt"
   ]
  }
 ],
 "metadata": {
  "kernelspec": {
   "display_name": "Tensorflow",
   "language": "python",
   "name": "tf"
  },
  "language_info": {
   "codemirror_mode": {
    "name": "ipython",
    "version": 3
   },
   "file_extension": ".py",
   "mimetype": "text/x-python",
   "name": "python",
   "nbconvert_exporter": "python",
   "pygments_lexer": "ipython3",
   "version": "3.9.17"
  }
 },
 "nbformat": 4,
 "nbformat_minor": 5
}
