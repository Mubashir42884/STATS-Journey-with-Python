{
 "cells": [
  {
   "cell_type": "markdown",
   "id": "8b7446e4",
   "metadata": {},
   "source": [
    "# **INTRO TO STATISTICS**"
   ]
  },
  {
   "cell_type": "markdown",
   "id": "080cd1ca",
   "metadata": {},
   "source": [
    "Hello! In this notebook, we will try to cover the most basic statistical concepts and will do some fun codes to check if it really works.<br>\n",
    "So, the concepts we will cover here are:<br>\n",
    "\n",
    "1. *Variables: Input Variables & Output Variables*\n",
    "2. *Types of Statistical Learning: Descriptive & Inferential*\n",
    "3. *Population and Sample*\n",
    "4. *Estimation*\n",
    "    \n",
    "Books we will be following:\n",
    "```\n",
    "1. James, G., Witten, D., Hastie, T., Tibshirani, R., & Taylor, J. (2023). An introduction to statistical learning: With applications in Python. Springer.\n",
    "2. Hastie, T., Tibshirani, R.,, Friedman, J. (2009). The elements of statistical learning: data mining, inference and prediction. Springer.\n",
    "```"
   ]
  },
  {
   "cell_type": "markdown",
   "id": "4dbd3473",
   "metadata": {},
   "source": [
    "### 1. Variables: Input Variables & Output Variables\n",
    "In stat, A **_Variable_** is a measurable characteristic, attribute, or feature of a person, object, or event that can take on a variety of values.\n",
    "<br>\n",
    "A variable itself may not be meaningful or understandable all the time. For example, say we have a person P's attribute gathered as variable A, B, and C. These variables can be of any datatype or any value. But how does these variables define a person is our concern. A and B could be Height and Weight and we can give a conclusion to that the person P's Height and Weight is A and B. But if C is an unknown variable that contains any positive Real Number from 0 to infinity, what conclusion could we add to that? Without knowing what C means, we can assume everything but cannot define anything.<br>\n",
    "Turned out, if we divide the Weight with the squared values of Height, it gives us the exact value in C. That's actually the person P's BMI score! But we didn't know that before. Even without knowing what the variable C is, could we have guessed it correctly? Hmm...oh yes! With statistics we actually can guess it!! Actually we call it *_Estimate_* rather than just a random guess.\n",
    "<br>\n",
    "To **_Estimate_** the BMI (variable C), we needed the Weight (variable A) and Height (variable B). Then we needed the equation or the estimator function  ```{Weight / Height^2}``` to estimate BMI (variable C). So in this context:\n",
    "- A and B are **_Input Variables_**: Which works as an input for the estimation function\n",
    "- C is the **_Output Variable_**: Which works as an output of the estimation function\n",
    "\n",
    "We can write:\n",
    "$$BMI (C) = f(Weight(A), Height(B))$$\n",
    "or simply,\n",
    "$$Y = f(X)$$\n",
    "Where, Y is the output of the estimate function of input X."
   ]
  },
  {
   "cell_type": "markdown",
   "id": "44037417",
   "metadata": {},
   "source": [
    "### 2.Types of Statistical Learning: Descriptive & Inferential\n",
    "Let's begin with an example of two university students, name Donny and Darcy. We have collected their last semester's grades for the same courses they have taken, number of classes they have attended, and the part-time job hour they spent each week. If I ask who did better in the course, or who was the busiest among them in the last semester, we can easily find out by looking at their grades and their time spent in the semester. Even if I ask what was the average grade or minimum work-time of them, we can answer that by doing some calculations. This means, we can describe or summarize Donny and Darcy's semester by their grades, attendance, and working hour. Therefore, **Descriptive Statistics** is a statistical process that can describe or summarize the data in a meaningful way which can be characterized.\n",
    "<br>\n",
    "However, if we were to determine who is a good student among Donny and Darcy from the given dataset, that would be a different case. Because, we cannot judge or conclude a student is good or bad just focusing on grades, attendance, and working time. It requires more logical data and evidence to deduce into such conclusion that we can be confident of what we say. Thus, **Inferential Statistics** is a statistical process that can take a sample from the data to deduce into logical conclusion which can be generalized.\n",
    "<br>\n",
    "\n",
    "| Type | Purpose | Context | Statistical Tools |\n",
    "|---|---|---|---|\n",
    "| **Descriptive Statistic** | Summarize observed data | Average grades, working ratio, etc. | Mean, Median, Mode, Standard Deviation, etc. |\n",
    "| **Inferential Statistic** | Make predictions or comparisons | Future grades, performance comparison etc. | Hypothesis testing, Regression, etc. |"
   ]
  },
  {
   "cell_type": "markdown",
   "id": "f60b82b6",
   "metadata": {},
   "source": [
    "#### Let's take the context of Donny and Darcy into a fun code to understand a bit more about basic statistical tools."
   ]
  },
  {
   "cell_type": "code",
   "execution_count": 1,
   "id": "6c994e43",
   "metadata": {},
   "outputs": [],
   "source": [
    "import numpy as np\n",
    "import pandas as pd\n",
    "import matplotlib.pyplot as plt"
   ]
  },
  {
   "cell_type": "code",
   "execution_count": 2,
   "id": "a91f8d27",
   "metadata": {},
   "outputs": [
    {
     "name": "stdout",
     "output_type": "stream",
     "text": [
      "All are same shape: (15,)\n"
     ]
    }
   ],
   "source": [
    "# Generate Numpy arrays of each column\n",
    "\n",
    "# Grade Column\n",
    "grade = np.array([3.25, 3.81, 3.05, 3.92, 2.86,\n",
    "                  2.75, 2.99, 3.35, 3.95, 3.99,\n",
    "                  4.0, 4.0, 3.89, 3.82, 3.67])\n",
    "# Attendance Column\n",
    "class_num = np.array([40, 46, 38, 48, 33,\n",
    "                     32, 39, 41, 47, 46,\n",
    "                     48, 48, 48, 46, 45])\n",
    "# Worktime Column\n",
    "work = np.array([290, 280, 300, 260, 318,\n",
    "                300, 296, 290, 290, 200,\n",
    "                190, 300, 100, 260, 280])\n",
    "# Check shapes\n",
    "if grade.shape == class_num.shape == work.shape:\n",
    "    print(f\"All are same shape: {grade.shape}\")"
   ]
  },
  {
   "cell_type": "code",
   "execution_count": 3,
   "id": "ab9a1732",
   "metadata": {},
   "outputs": [
    {
     "data": {
      "text/plain": [
       "array([[  3.25,  40.  , 290.  ],\n",
       "       [  3.81,  46.  , 280.  ],\n",
       "       [  3.05,  38.  , 300.  ],\n",
       "       [  3.92,  48.  , 260.  ],\n",
       "       [  2.86,  33.  , 318.  ],\n",
       "       [  2.75,  32.  , 300.  ],\n",
       "       [  2.99,  39.  , 296.  ],\n",
       "       [  3.35,  41.  , 290.  ],\n",
       "       [  3.95,  47.  , 290.  ],\n",
       "       [  3.99,  46.  , 200.  ],\n",
       "       [  4.  ,  48.  , 190.  ],\n",
       "       [  4.  ,  48.  , 300.  ],\n",
       "       [  3.89,  48.  , 100.  ],\n",
       "       [  3.82,  46.  , 260.  ],\n",
       "       [  3.67,  45.  , 280.  ]])"
      ]
     },
     "execution_count": 3,
     "metadata": {},
     "output_type": "execute_result"
    }
   ],
   "source": [
    "data_table = np.array([grade, class_num, work]).T # Transpose for dataframing\n",
    "data_table"
   ]
  },
  {
   "cell_type": "code",
   "execution_count": 4,
   "id": "823e7d75",
   "metadata": {},
   "outputs": [
    {
     "data": {
      "text/plain": [
       "(15, 3)"
      ]
     },
     "execution_count": 4,
     "metadata": {},
     "output_type": "execute_result"
    }
   ],
   "source": [
    "data_table.shape"
   ]
  },
  {
   "cell_type": "code",
   "execution_count": 5,
   "id": "c2620c8a",
   "metadata": {},
   "outputs": [
    {
     "data": {
      "text/html": [
       "<div>\n",
       "<style scoped>\n",
       "    .dataframe tbody tr th:only-of-type {\n",
       "        vertical-align: middle;\n",
       "    }\n",
       "\n",
       "    .dataframe tbody tr th {\n",
       "        vertical-align: top;\n",
       "    }\n",
       "\n",
       "    .dataframe thead th {\n",
       "        text-align: right;\n",
       "    }\n",
       "</style>\n",
       "<table border=\"1\" class=\"dataframe\">\n",
       "  <thead>\n",
       "    <tr style=\"text-align: right;\">\n",
       "      <th></th>\n",
       "      <th>Grade(/4.00)</th>\n",
       "      <th>Attendance(/48H)</th>\n",
       "      <th>Worktime(/320H)</th>\n",
       "    </tr>\n",
       "  </thead>\n",
       "  <tbody>\n",
       "    <tr>\n",
       "      <th>1</th>\n",
       "      <td>3.25</td>\n",
       "      <td>40.0</td>\n",
       "      <td>290.0</td>\n",
       "    </tr>\n",
       "    <tr>\n",
       "      <th>2</th>\n",
       "      <td>3.81</td>\n",
       "      <td>46.0</td>\n",
       "      <td>280.0</td>\n",
       "    </tr>\n",
       "    <tr>\n",
       "      <th>3</th>\n",
       "      <td>3.05</td>\n",
       "      <td>38.0</td>\n",
       "      <td>300.0</td>\n",
       "    </tr>\n",
       "    <tr>\n",
       "      <th>4</th>\n",
       "      <td>3.92</td>\n",
       "      <td>48.0</td>\n",
       "      <td>260.0</td>\n",
       "    </tr>\n",
       "    <tr>\n",
       "      <th>5</th>\n",
       "      <td>2.86</td>\n",
       "      <td>33.0</td>\n",
       "      <td>318.0</td>\n",
       "    </tr>\n",
       "    <tr>\n",
       "      <th>6</th>\n",
       "      <td>2.75</td>\n",
       "      <td>32.0</td>\n",
       "      <td>300.0</td>\n",
       "    </tr>\n",
       "    <tr>\n",
       "      <th>7</th>\n",
       "      <td>2.99</td>\n",
       "      <td>39.0</td>\n",
       "      <td>296.0</td>\n",
       "    </tr>\n",
       "    <tr>\n",
       "      <th>8</th>\n",
       "      <td>3.35</td>\n",
       "      <td>41.0</td>\n",
       "      <td>290.0</td>\n",
       "    </tr>\n",
       "    <tr>\n",
       "      <th>9</th>\n",
       "      <td>3.95</td>\n",
       "      <td>47.0</td>\n",
       "      <td>290.0</td>\n",
       "    </tr>\n",
       "    <tr>\n",
       "      <th>10</th>\n",
       "      <td>3.99</td>\n",
       "      <td>46.0</td>\n",
       "      <td>200.0</td>\n",
       "    </tr>\n",
       "    <tr>\n",
       "      <th>11</th>\n",
       "      <td>4.00</td>\n",
       "      <td>48.0</td>\n",
       "      <td>190.0</td>\n",
       "    </tr>\n",
       "    <tr>\n",
       "      <th>12</th>\n",
       "      <td>4.00</td>\n",
       "      <td>48.0</td>\n",
       "      <td>300.0</td>\n",
       "    </tr>\n",
       "    <tr>\n",
       "      <th>13</th>\n",
       "      <td>3.89</td>\n",
       "      <td>48.0</td>\n",
       "      <td>100.0</td>\n",
       "    </tr>\n",
       "    <tr>\n",
       "      <th>14</th>\n",
       "      <td>3.82</td>\n",
       "      <td>46.0</td>\n",
       "      <td>260.0</td>\n",
       "    </tr>\n",
       "    <tr>\n",
       "      <th>15</th>\n",
       "      <td>3.67</td>\n",
       "      <td>45.0</td>\n",
       "      <td>280.0</td>\n",
       "    </tr>\n",
       "  </tbody>\n",
       "</table>\n",
       "</div>"
      ],
      "text/plain": [
       "    Grade(/4.00)  Attendance(/48H)  Worktime(/320H)\n",
       "1           3.25              40.0            290.0\n",
       "2           3.81              46.0            280.0\n",
       "3           3.05              38.0            300.0\n",
       "4           3.92              48.0            260.0\n",
       "5           2.86              33.0            318.0\n",
       "6           2.75              32.0            300.0\n",
       "7           2.99              39.0            296.0\n",
       "8           3.35              41.0            290.0\n",
       "9           3.95              47.0            290.0\n",
       "10          3.99              46.0            200.0\n",
       "11          4.00              48.0            190.0\n",
       "12          4.00              48.0            300.0\n",
       "13          3.89              48.0            100.0\n",
       "14          3.82              46.0            260.0\n",
       "15          3.67              45.0            280.0"
      ]
     },
     "execution_count": 5,
     "metadata": {},
     "output_type": "execute_result"
    }
   ],
   "source": [
    "data = pd.DataFrame(data_table, index=range(1, len(grade)+1),\n",
    "                    columns=(\"Grade(/4.00)\", \"Attendance(/48H)\", \"Worktime(/320H)\"),\n",
    "                    dtype=\"float32\")\n",
    "data"
   ]
  },
  {
   "cell_type": "markdown",
   "id": "20b059a2",
   "metadata": {},
   "source": [
    "Let's do some fun statistical calculations and visualization!\n",
    "<br>\n",
    "We can use Pandas defined methods for descriptive statistics."
   ]
  },
  {
   "cell_type": "code",
   "execution_count": 6,
   "id": "b58fb95f",
   "metadata": {},
   "outputs": [
    {
     "name": "stdout",
     "output_type": "stream",
     "text": [
      "Mean of Grade Points\t: 3.5533335208892822\n",
      "Mode of Attendance\t: 0    48.0\n",
      "dtype: float32\n",
      "Median of Worktime\t: 290.0\n"
     ]
    }
   ],
   "source": [
    "# Print Mean, Mode, and Median\n",
    "avg_grade = data[\"Grade(/4.00)\"].mean()\n",
    "mode_att = data[\"Attendance(/48H)\"].mode()\n",
    "med_work = data[\"Worktime(/320H)\"].median()\n",
    "\n",
    "print(f\"Mean of Grade Points\\t: {avg_grade}\\nMode of Attendance\\t: {mode_att}\\nMedian of Worktime\\t: {med_work}\")"
   ]
  },
  {
   "cell_type": "markdown",
   "id": "cdb71157",
   "metadata": {},
   "source": [
    "Or, we could just call the `describe()` method to get all the basic descriptive stats"
   ]
  },
  {
   "cell_type": "code",
   "execution_count": 7,
   "id": "278739ee",
   "metadata": {},
   "outputs": [
    {
     "data": {
      "text/html": [
       "<div>\n",
       "<style scoped>\n",
       "    .dataframe tbody tr th:only-of-type {\n",
       "        vertical-align: middle;\n",
       "    }\n",
       "\n",
       "    .dataframe tbody tr th {\n",
       "        vertical-align: top;\n",
       "    }\n",
       "\n",
       "    .dataframe thead th {\n",
       "        text-align: right;\n",
       "    }\n",
       "</style>\n",
       "<table border=\"1\" class=\"dataframe\">\n",
       "  <thead>\n",
       "    <tr style=\"text-align: right;\">\n",
       "      <th></th>\n",
       "      <th>Grade(/4.00)</th>\n",
       "      <th>Attendance(/48H)</th>\n",
       "      <th>Worktime(/320H)</th>\n",
       "    </tr>\n",
       "  </thead>\n",
       "  <tbody>\n",
       "    <tr>\n",
       "      <th>count</th>\n",
       "      <td>15.000000</td>\n",
       "      <td>15.000000</td>\n",
       "      <td>15.000000</td>\n",
       "    </tr>\n",
       "    <tr>\n",
       "      <th>mean</th>\n",
       "      <td>3.553334</td>\n",
       "      <td>43.000000</td>\n",
       "      <td>263.600006</td>\n",
       "    </tr>\n",
       "    <tr>\n",
       "      <th>std</th>\n",
       "      <td>0.461019</td>\n",
       "      <td>5.490251</td>\n",
       "      <td>57.857956</td>\n",
       "    </tr>\n",
       "    <tr>\n",
       "      <th>min</th>\n",
       "      <td>2.750000</td>\n",
       "      <td>32.000000</td>\n",
       "      <td>100.000000</td>\n",
       "    </tr>\n",
       "    <tr>\n",
       "      <th>25%</th>\n",
       "      <td>3.150000</td>\n",
       "      <td>39.500000</td>\n",
       "      <td>260.000000</td>\n",
       "    </tr>\n",
       "    <tr>\n",
       "      <th>50%</th>\n",
       "      <td>3.810000</td>\n",
       "      <td>46.000000</td>\n",
       "      <td>290.000000</td>\n",
       "    </tr>\n",
       "    <tr>\n",
       "      <th>75%</th>\n",
       "      <td>3.935000</td>\n",
       "      <td>47.500000</td>\n",
       "      <td>298.000000</td>\n",
       "    </tr>\n",
       "    <tr>\n",
       "      <th>max</th>\n",
       "      <td>4.000000</td>\n",
       "      <td>48.000000</td>\n",
       "      <td>318.000000</td>\n",
       "    </tr>\n",
       "  </tbody>\n",
       "</table>\n",
       "</div>"
      ],
      "text/plain": [
       "       Grade(/4.00)  Attendance(/48H)  Worktime(/320H)\n",
       "count     15.000000         15.000000        15.000000\n",
       "mean       3.553334         43.000000       263.600006\n",
       "std        0.461019          5.490251        57.857956\n",
       "min        2.750000         32.000000       100.000000\n",
       "25%        3.150000         39.500000       260.000000\n",
       "50%        3.810000         46.000000       290.000000\n",
       "75%        3.935000         47.500000       298.000000\n",
       "max        4.000000         48.000000       318.000000"
      ]
     },
     "execution_count": 7,
     "metadata": {},
     "output_type": "execute_result"
    }
   ],
   "source": [
    "data.describe()"
   ]
  },
  {
   "cell_type": "code",
   "execution_count": 8,
   "id": "d102be10",
   "metadata": {},
   "outputs": [
    {
     "data": {
      "image/png": "[encoded data removed]",
      "text/plain": [
       "<Figure size 1000x600 with 1 Axes>"
      ]
     },
     "metadata": {},
     "output_type": "display_data"
    }
   ],
   "source": [
    "# Create the dot plot\n",
    "plt.figure(figsize=(10, 6))\n",
    "plt.scatter(data[\"Grade(/4.00)\"], data[\"Attendance(/48H)\"], \n",
    "            s=150, alpha=0.6, edgecolors='black')\n",
    "# Customize the plot\n",
    "plt.title('Scatter Plot Example')\n",
    "plt.xlabel('Grade')\n",
    "plt.ylabel('Attendance')\n",
    "plt.grid(axis='y', linestyle='--', alpha=0.7)\n",
    "plt.tight_layout()\n",
    "plt.show()"
   ]
  },
  {
   "cell_type": "code",
   "execution_count": 9,
   "id": "35d7409e",
   "metadata": {},
   "outputs": [
    {
     "data": {
      "image/png": "[encoded data removed]",
      "text/plain": [
       "<Figure size 1200x900 with 4 Axes>"
      ]
     },
     "metadata": {},
     "output_type": "display_data"
    }
   ],
   "source": [
    "data.hist(bins=15, figsize=(12, 9), grid=False, color=\"teal\")\n",
    "plt.suptitle('Distribution of Data')\n",
    "plt.tight_layout(rect=[0, 0.03, 1, 0.95])\n",
    "plt.show()"
   ]
  },
  {
   "cell_type": "code",
   "execution_count": null,
   "id": "cfe0d988",
   "metadata": {},
   "outputs": [],
   "source": []
  }
 ],
 "metadata": {
  "kernelspec": {
   "display_name": "Tensorflow",
   "language": "python",
   "name": "tf"
  },
  "language_info": {
   "codemirror_mode": {
    "name": "ipython",
    "version": 3
   },
   "file_extension": ".py",
   "mimetype": "text/x-python",
   "name": "python",
   "nbconvert_exporter": "python",
   "pygments_lexer": "ipython3",
   "version": "3.9.17"
  }
 },
 "nbformat": 4,
 "nbformat_minor": 5
}
