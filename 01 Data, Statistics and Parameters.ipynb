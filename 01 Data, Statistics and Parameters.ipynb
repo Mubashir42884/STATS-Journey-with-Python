{
 "cells": [
  {
   "cell_type": "markdown",
   "id": "bea873b7",
   "metadata": {},
   "source": [
    "# Data, Statistics and Parameters"
   ]
  },
  {
   "cell_type": "markdown",
   "id": "09c217ae",
   "metadata": {},
   "source": [
    "Even if the title sounds simple, it is yet a tricky concept! But this notebook will help you understand the topics clearly. So, the concepts we will cover here are:\n",
    "- Types of Data and their meaning\n",
    "- Statistics & Parameters and their relation to Sample & Population\n",
    "- Statistical Measurements and its scales\n",
    "- Statistical Decision Table\n",
    "<br>"
   ]
  },
  {
   "cell_type": "markdown",
   "id": "997ee2e4",
   "metadata": {},
   "source": [
    "### Types of Data and their meaning\n",
    "**Data** refers to raw facts or information—whether numerical, textual, or visual—that are collected and organized for analysis, interpretation, or decision-making. It can be of many types and many format. But we can generally divide _Data_ into two types:\n",
    "1. **Quantitative Data** is numerical and measurable with numbers. This type of data can be countable or calculable. Another way to say that, if you can ask \"_How Much_\" or \"_How Many_\" and get an answer that has numerical values, then it is **Quantitative Data**. For example: Height, Age, Distance, Grade, pH level, etc.\n",
    "<br>\n",
    "\n",
    "2. **Qualitative Data** is descriptive and not measurable. This type of data is oftenly observable or perceivable. Another way to put this, if you can ask \"_Why_\" or \"_How_\" and get an answer that has descriptive meaning, then it is **Qualitative Data**. For example: Colors, Opinions, Observations, survey response, attitude, etc.\n",
    "\n"
   ]
  },
  {
   "cell_type": "code",
   "execution_count": null,
   "id": "6bbbb57e",
   "metadata": {},
   "outputs": [],
   "source": []
  }
 ],
 "metadata": {
  "kernelspec": {
   "display_name": "Tensorflow",
   "language": "python",
   "name": "tf"
  },
  "language_info": {
   "codemirror_mode": {
    "name": "ipython",
    "version": 3
   },
   "file_extension": ".py",
   "mimetype": "text/x-python",
   "name": "python",
   "nbconvert_exporter": "python",
   "pygments_lexer": "ipython3",
   "version": "3.9.17"
  }
 },
 "nbformat": 4,
 "nbformat_minor": 5
}
